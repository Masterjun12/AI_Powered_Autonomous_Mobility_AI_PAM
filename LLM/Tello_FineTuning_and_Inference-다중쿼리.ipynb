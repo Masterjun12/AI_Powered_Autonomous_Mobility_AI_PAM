{
 "cells": [
  {
   "cell_type": "markdown",
   "metadata": {},
   "source": [
    "## 1. 환경 설정"
   ]
  },
  {
   "cell_type": "code",
   "execution_count": 1,
   "metadata": {},
   "outputs": [],
   "source": [
    "import os\n",
    "import torch\n",
    "\n",
    "# 환경변수 설정 (스크립트 실행 전 혹은 코드 초반에)\n",
    "os.environ[\"CUDA_VISIBLE_DEVICES\"] = \"3\""
   ]
  },
  {
   "cell_type": "markdown",
   "metadata": {},
   "source": [
    "## 2. 데이터셋 준비"
   ]
  },
  {
   "cell_type": "code",
   "execution_count": 2,
   "metadata": {},
   "outputs": [
    {
     "name": "stdout",
     "output_type": "stream",
     "text": [
      "tello_dataset.json이 이미 존재합니다.\n"
     ]
    }
   ],
   "source": [
    "import os\n",
    "from tello_dataset import create_tello_dataset\n",
    "\n",
    "DATASET_FILE = \"tello_dataset.json\"\n",
    "\n",
    "if not os.path.exists(DATASET_FILE):\n",
    "    print(f\"{DATASET_FILE} 생성 중...\")\n",
    "    create_tello_dataset()\n",
    "    print(f\"{DATASET_FILE} 생성 완료!\")\n",
    "else:\n",
    "    print(f\"{DATASET_FILE}이 이미 존재합니다.\")"
   ]
  },
  {
   "cell_type": "markdown",
   "metadata": {},
   "source": [
    "## 3. 모델 파인튜닝 (fp16 사용)\n",
    "이 단계는 **A100과 같은 강력한 GPU(CUDA 환경)**가 필요하며, 모델 크기에 따라 **상당한 시간**이 소요됩니다.\n",
    "\n",
    "아래 셀에서는 파인튜닝할 모델을 선택하고, LoRa와 `fp16`을 사용하여 안정적으로 파인튜닝을 수행하는 함수를 정의합니다. 양자화는 사용하지 않습니다."
   ]
  },
  {
   "cell_type": "code",
   "execution_count": 3,
   "metadata": {},
   "outputs": [],
   "source": [
    "import os\n",
    "os.environ[\"CUDA_VISIBLE_DEVICES\"] = \"3\"\n"
   ]
  },
  {
   "cell_type": "code",
   "execution_count": 4,
   "metadata": {},
   "outputs": [],
   "source": [
    "import torch\n",
    "torch.cuda.empty_cache()\n"
   ]
  },
  {
   "cell_type": "code",
   "execution_count": 10,
   "metadata": {},
   "outputs": [],
   "source": [
    "import os\n",
    "import torch\n",
    "from datasets import load_dataset\n",
    "from transformers import AutoModelForCausalLM, AutoTokenizer, TrainingArguments\n",
    "from peft import LoraConfig, get_peft_model\n",
    "from trl import SFTTrainer\n",
    "\n",
    "\n",
    "def run_finetuning_fp16(model_name, dataset_path, output_dir):\n",
    "    print(f\"--- {model_name} 파인튜닝 시작 (fp16) ---\")\n",
    "    \n",
    "    os.environ[\"CUDA_VISIBLE_DEVICES\"] = \"3\"\n",
    "    torch.cuda.set_device(0)  # 이제 0번은 실제 물리 GPU 3번 (CUDA_VISIBLE_DEVICES로 리맵핑 됨)\n",
    "\n",
    "    device = torch.device(\"cuda:0\")  # 0번이 리맵핑된 GPU 3번 의미\n",
    "    \n",
    "    model = AutoModelForCausalLM.from_pretrained(\n",
    "        model_name,\n",
    "        torch_dtype=torch.float16,\n",
    "        # device_map 대신 device_map=\"auto\" 또는 None 으로 하거나, 직접 model.to(device) 사용\n",
    "        device_map=None,\n",
    "        trust_remote_code=True\n",
    "    )\n",
    "\n",
    "    model.config.use_cache = False\n",
    "    model.config.pretraining_tp = 1\n",
    "\n",
    "    tokenizer = AutoTokenizer.from_pretrained(model_name, trust_remote_code=True)\n",
    "    if tokenizer.pad_token is None:\n",
    "        tokenizer.pad_token = tokenizer.eos_token\n",
    "    tokenizer.padding_side = \"right\"\n",
    "\n",
    "    peft_config = LoraConfig(\n",
    "        r=64,\n",
    "        lora_alpha=16,\n",
    "        lora_dropout=0.1,\n",
    "        bias=\"none\",\n",
    "        task_type=\"CAUSAL_LM\"\n",
    "    )\n",
    "    device = torch.device(\"cuda:0\" if torch.cuda.is_available() else \"cpu\")\n",
    "    model = get_peft_model(model, peft_config)\n",
    "    model = model.to(device)  # cuda:0은 실제로 물리 GPU 3번임\n",
    "\n",
    "    print(f\"Model is on device: {next(model.parameters()).device}\")\n",
    "    \n",
    "    training_args = TrainingArguments(\n",
    "        output_dir=output_dir,\n",
    "        num_train_epochs=1,\n",
    "        per_device_train_batch_size=4,\n",
    "        gradient_accumulation_steps=1,\n",
    "        optim=\"paged_adamw_32bit\",\n",
    "        save_steps=50,\n",
    "        logging_steps=50,\n",
    "        learning_rate=2e-4,\n",
    "        weight_decay=0.001,\n",
    "        fp16=True,\n",
    "        bf16=False,\n",
    "        max_grad_norm=0.3,\n",
    "        max_steps=-1,\n",
    "        warmup_ratio=0.03,\n",
    "        group_by_length=True,\n",
    "        lr_scheduler_type=\"constant\"\n",
    "    )\n",
    "\n",
    "    dataset = load_dataset('json', data_files=dataset_path, split=\"train\")\n",
    "\n",
    "    trainer = SFTTrainer(\n",
    "        model=model,\n",
    "        train_dataset=dataset,\n",
    "        peft_config=peft_config,\n",
    "        dataset_text_field=\"instruction\",\n",
    "        max_seq_length=None,\n",
    "        tokenizer=tokenizer,\n",
    "        args=training_args,\n",
    "        packing=False\n",
    "    )\n",
    "\n",
    "    trainer.train()\n",
    "\n",
    "    final_checkpoint_dir = os.path.join(output_dir, \"final_checkpoint\")\n",
    "    trainer.model.save_pretrained(final_checkpoint_dir)\n",
    "    tokenizer.save_pretrained(final_checkpoint_dir)\n",
    "    \n",
    "    print(f\"--- {model_name} 파인튜닝 완료 ---\")\n",
    "    print(f\"모델이 {final_checkpoint_dir}에 저장되었습니다.\")\n"
   ]
  },
  {
   "cell_type": "code",
   "execution_count": 11,
   "metadata": {},
   "outputs": [
    {
     "name": "stdout",
     "output_type": "stream",
     "text": [
      "CUDA visible devices: 3\n",
      "torch.cuda.device_count(): 1\n",
      "Current CUDA device: 0\n",
      "CUDA device name: NVIDIA A100 80GB PCIe\n"
     ]
    }
   ],
   "source": [
    "\n",
    "import torch\n",
    "print(\"CUDA visible devices:\", os.environ[\"CUDA_VISIBLE_DEVICES\"])\n",
    "print(\"torch.cuda.device_count():\", torch.cuda.device_count())\n",
    "print(\"Current CUDA device:\", torch.cuda.current_device())\n",
    "print(\"CUDA device name:\", torch.cuda.get_device_name(torch.cuda.current_device()))\n"
   ]
  },
  {
   "cell_type": "code",
   "execution_count": null,
   "metadata": {},
   "outputs": [],
   "source": []
  },
  {
   "cell_type": "markdown",
   "metadata": {},
   "source": [
    "### 파인튜닝 실행\n",
    "\n",
    "아래 셀에서 파인튜닝할 3개의 한국어 모델을 설정합니다. `MODELS_TO_TRAIN` 리스트에 원하는 모델의 Hugging Face ID를 추가하거나 제거하여 실험을 변형할 수 있습니다.\n",
    "\n",
    "**주의:** 아래 셀을 실행하면 리스트에 있는 각 모델에 대한 파인튜닝이 순차적으로 진행됩니다. A100 GPU에서도 상당한 시간이 소요될 수 있습니다."
   ]
  },
  {
   "cell_type": "code",
   "execution_count": 12,
   "metadata": {},
   "outputs": [],
   "source": [
    "import os\n",
    "os.environ[\"TOKENIZERS_PARALLELISM\"] = \"True\""
   ]
  },
  {
   "cell_type": "code",
   "execution_count": 13,
   "metadata": {},
   "outputs": [
    {
     "name": "stdout",
     "output_type": "stream",
     "text": [
      "Name: transformers\r\n",
      "Version: 4.46.3\r\n",
      "Summary: State-of-the-art Machine Learning for JAX, PyTorch and TensorFlow\r\n",
      "Home-page: https://github.com/huggingface/transformers\r\n",
      "Author: The Hugging Face team (past and future) with the help of all our contributors (https://github.com/huggingface/transformers/graphs/contributors)\r\n",
      "Author-email: transformers@huggingface.co\r\n",
      "License: Apache 2.0 License\r\n",
      "Location: /home/a202520153/.local/lib/python3.8/site-packages\r\n",
      "Requires: filelock, huggingface-hub, numpy, packaging, pyyaml, regex, requests, safetensors, tokenizers, tqdm\r\n",
      "Required-by: peft, sentence-transformers, trl\r\n",
      "---\r\n",
      "Name: accelerate\r\n",
      "Version: 1.0.1\r\n",
      "Summary: Accelerate\r\n",
      "Home-page: https://github.com/huggingface/accelerate\r\n",
      "Author: The HuggingFace team\r\n",
      "Author-email: zach.mueller@huggingface.co\r\n",
      "License: Apache\r\n",
      "Location: /home/a202520153/.local/lib/python3.8/site-packages\r\n",
      "Requires: huggingface-hub, numpy, packaging, psutil, pyyaml, safetensors, torch\r\n",
      "Required-by: peft, trl\r\n"
     ]
    }
   ],
   "source": [
    "!pip show transformers accelerate"
   ]
  },
  {
   "cell_type": "markdown",
   "metadata": {},
   "source": [
    "| 모델 이름                          | 매개변수 수     | 아키텍처     | 학습 데이터                          | 특징 및 용도                                               | 라이센스         |\n",
    "|-----------------------------------|------------------|--------------|--------------------------------------|------------------------------------------------------------|------------------|\n",
    "| `beomi/Yi-Ko-6B`                  | 약 6B            | LLaMA 기반   | 한국어 중심의 웹 코퍼스             | Beomi가 한국어 최적화를 위해 공개한 LLaMA 파생 모델       | Apache 2.0       |\n",
    "| `yanolja/KoSOLAR-10.7B-v0.2`      | 약 10.7B         | GPT 기반     | 한국어/영어 혼합 대규모 텍스트      | RAG 최적화, KoQA/KoMRC 성능 우수, 대화용 LLM 최적화       | CC-BY-NC 4.0     |\n",
    "| `EleutherAI/polyglot-ko-5.8b`     | 약 5.8B          | GPT-J 기반   | OSCAR, The Pile + 한국어 데이터     | GPT-J 구조 기반의 한국어 전용 모델                         | Apache 2.0       |\n"
   ]
  },
  {
   "cell_type": "code",
   "execution_count": 14,
   "metadata": {},
   "outputs": [
    {
     "name": "stdout",
     "output_type": "stream",
     "text": [
      "--- beomi/Yi-Ko-6B 파인튜닝 시작 (fp16) ---\n"
     ]
    },
    {
     "data": {
      "application/vnd.jupyter.widget-view+json": {
       "model_id": "8e8fcc413e9942aa80e7c92a9f435bec",
       "version_major": 2,
       "version_minor": 0
      },
      "text/plain": [
       "Loading checkpoint shards:   0%|          | 0/5 [00:00<?, ?it/s]"
      ]
     },
     "metadata": {},
     "output_type": "display_data"
    },
    {
     "name": "stdout",
     "output_type": "stream",
     "text": [
      "Model is on device: cuda:0\n"
     ]
    },
    {
     "name": "stderr",
     "output_type": "stream",
     "text": [
      "/home/a202520153/.local/lib/python3.8/site-packages/huggingface_hub/utils/_deprecation.py:100: FutureWarning: Deprecated argument(s) used in '__init__': dataset_text_field. Will not be supported from version '1.0.0'.\n",
      "\n",
      "Deprecated positional argument(s) used in SFTTrainer, please use the SFTConfig to set these arguments instead.\n",
      "  warnings.warn(message, FutureWarning)\n",
      "/home/a202520153/.local/lib/python3.8/site-packages/trl/trainer/sft_trainer.py:292: UserWarning: You didn't pass a `max_seq_length` argument to the SFTTrainer, this will default to 1024\n",
      "  warnings.warn(\n",
      "/home/a202520153/.local/lib/python3.8/site-packages/trl/trainer/sft_trainer.py:321: UserWarning: You passed a `dataset_text_field` argument to the SFTTrainer, the value you passed will override the one in the `SFTConfig`.\n",
      "  warnings.warn(\n",
      "/home/a202520153/.local/lib/python3.8/site-packages/trl/trainer/sft_trainer.py:412: FutureWarning: `tokenizer` is deprecated and will be removed in version 5.0.0 for `SFTTrainer.__init__`. Use `processing_class` instead.\n",
      "  super().__init__(\n"
     ]
    },
    {
     "data": {
      "text/html": [
       "\n",
       "    <div>\n",
       "      \n",
       "      <progress value='30' max='30' style='width:300px; height:20px; vertical-align: middle;'></progress>\n",
       "      [30/30 00:04, Epoch 1/1]\n",
       "    </div>\n",
       "    <table border=\"1\" class=\"dataframe\">\n",
       "  <thead>\n",
       " <tr style=\"text-align: left;\">\n",
       "      <th>Step</th>\n",
       "      <th>Training Loss</th>\n",
       "    </tr>\n",
       "  </thead>\n",
       "  <tbody>\n",
       "  </tbody>\n",
       "</table><p>"
      ],
      "text/plain": [
       "<IPython.core.display.HTML object>"
      ]
     },
     "metadata": {},
     "output_type": "display_data"
    },
    {
     "name": "stdout",
     "output_type": "stream",
     "text": [
      "--- beomi/Yi-Ko-6B 파인튜닝 완료 ---\n",
      "모델이 ./beomi_Yi-Ko-6B-finetuned-fp16/final_checkpoint에 저장되었습니다.\n",
      "--- yanolja/KoSOLAR-10.7B-v0.2 파인튜닝 시작 (fp16) ---\n"
     ]
    },
    {
     "data": {
      "application/vnd.jupyter.widget-view+json": {
       "model_id": "919f9693aede42b2932283ff7f6064c1",
       "version_major": 2,
       "version_minor": 0
      },
      "text/plain": [
       "Loading checkpoint shards:   0%|          | 0/5 [00:00<?, ?it/s]"
      ]
     },
     "metadata": {},
     "output_type": "display_data"
    },
    {
     "name": "stdout",
     "output_type": "stream",
     "text": [
      "Model is on device: cuda:0\n"
     ]
    },
    {
     "name": "stderr",
     "output_type": "stream",
     "text": [
      "/home/a202520153/.local/lib/python3.8/site-packages/huggingface_hub/utils/_deprecation.py:100: FutureWarning: Deprecated argument(s) used in '__init__': dataset_text_field. Will not be supported from version '1.0.0'.\n",
      "\n",
      "Deprecated positional argument(s) used in SFTTrainer, please use the SFTConfig to set these arguments instead.\n",
      "  warnings.warn(message, FutureWarning)\n",
      "/home/a202520153/.local/lib/python3.8/site-packages/trl/trainer/sft_trainer.py:292: UserWarning: You didn't pass a `max_seq_length` argument to the SFTTrainer, this will default to 1024\n",
      "  warnings.warn(\n",
      "/home/a202520153/.local/lib/python3.8/site-packages/trl/trainer/sft_trainer.py:321: UserWarning: You passed a `dataset_text_field` argument to the SFTTrainer, the value you passed will override the one in the `SFTConfig`.\n",
      "  warnings.warn(\n",
      "/home/a202520153/.local/lib/python3.8/site-packages/trl/trainer/sft_trainer.py:412: FutureWarning: `tokenizer` is deprecated and will be removed in version 5.0.0 for `SFTTrainer.__init__`. Use `processing_class` instead.\n",
      "  super().__init__(\n"
     ]
    },
    {
     "data": {
      "text/html": [
       "\n",
       "    <div>\n",
       "      \n",
       "      <progress value='30' max='30' style='width:300px; height:20px; vertical-align: middle;'></progress>\n",
       "      [30/30 00:07, Epoch 1/1]\n",
       "    </div>\n",
       "    <table border=\"1\" class=\"dataframe\">\n",
       "  <thead>\n",
       " <tr style=\"text-align: left;\">\n",
       "      <th>Step</th>\n",
       "      <th>Training Loss</th>\n",
       "    </tr>\n",
       "  </thead>\n",
       "  <tbody>\n",
       "  </tbody>\n",
       "</table><p>"
      ],
      "text/plain": [
       "<IPython.core.display.HTML object>"
      ]
     },
     "metadata": {},
     "output_type": "display_data"
    },
    {
     "name": "stdout",
     "output_type": "stream",
     "text": [
      "--- yanolja/KoSOLAR-10.7B-v0.2 파인튜닝 완료 ---\n",
      "모델이 ./yanolja_KoSOLAR-10.7B-v0.2-finetuned-fp16/final_checkpoint에 저장되었습니다.\n",
      "--- EleutherAI/polyglot-ko-5.8b 파인튜닝 시작 (fp16) ---\n"
     ]
    },
    {
     "data": {
      "application/vnd.jupyter.widget-view+json": {
       "model_id": "213a6b94d3c047e6b422d676be998815",
       "version_major": 2,
       "version_minor": 0
      },
      "text/plain": [
       "Loading checkpoint shards:   0%|          | 0/13 [00:00<?, ?it/s]"
      ]
     },
     "metadata": {},
     "output_type": "display_data"
    },
    {
     "name": "stdout",
     "output_type": "stream",
     "text": [
      "Model is on device: cuda:0\n"
     ]
    },
    {
     "name": "stderr",
     "output_type": "stream",
     "text": [
      "/home/a202520153/.local/lib/python3.8/site-packages/huggingface_hub/utils/_deprecation.py:100: FutureWarning: Deprecated argument(s) used in '__init__': dataset_text_field. Will not be supported from version '1.0.0'.\n",
      "\n",
      "Deprecated positional argument(s) used in SFTTrainer, please use the SFTConfig to set these arguments instead.\n",
      "  warnings.warn(message, FutureWarning)\n",
      "/home/a202520153/.local/lib/python3.8/site-packages/trl/trainer/sft_trainer.py:292: UserWarning: You didn't pass a `max_seq_length` argument to the SFTTrainer, this will default to 1024\n",
      "  warnings.warn(\n",
      "/home/a202520153/.local/lib/python3.8/site-packages/trl/trainer/sft_trainer.py:321: UserWarning: You passed a `dataset_text_field` argument to the SFTTrainer, the value you passed will override the one in the `SFTConfig`.\n",
      "  warnings.warn(\n",
      "/home/a202520153/.local/lib/python3.8/site-packages/trl/trainer/sft_trainer.py:412: FutureWarning: `tokenizer` is deprecated and will be removed in version 5.0.0 for `SFTTrainer.__init__`. Use `processing_class` instead.\n",
      "  super().__init__(\n"
     ]
    },
    {
     "data": {
      "text/html": [
       "\n",
       "    <div>\n",
       "      \n",
       "      <progress value='30' max='30' style='width:300px; height:20px; vertical-align: middle;'></progress>\n",
       "      [30/30 00:03, Epoch 1/1]\n",
       "    </div>\n",
       "    <table border=\"1\" class=\"dataframe\">\n",
       "  <thead>\n",
       " <tr style=\"text-align: left;\">\n",
       "      <th>Step</th>\n",
       "      <th>Training Loss</th>\n",
       "    </tr>\n",
       "  </thead>\n",
       "  <tbody>\n",
       "  </tbody>\n",
       "</table><p>"
      ],
      "text/plain": [
       "<IPython.core.display.HTML object>"
      ]
     },
     "metadata": {},
     "output_type": "display_data"
    },
    {
     "name": "stdout",
     "output_type": "stream",
     "text": [
      "--- EleutherAI/polyglot-ko-5.8b 파인튜닝 완료 ---\n",
      "모델이 ./EleutherAI_polyglot-ko-5.8b-finetuned-fp16/final_checkpoint에 저장되었습니다.\n"
     ]
    }
   ],
   "source": [
    "MODELS_TO_TRAIN = [\n",
    "    \"beomi/Yi-Ko-6B\",\n",
    "    \"yanolja/KoSOLAR-10.7B-v0.2\",\n",
    "    \"EleutherAI/polyglot-ko-5.8b\"\n",
    "]\n",
    "\n",
    "for model_name in MODELS_TO_TRAIN:\n",
    "    output_dir = f\"./{model_name.replace('/', '_')}-finetuned-fp16\"\n",
    "    run_finetuning_fp16(model_name, DATASET_FILE, output_dir)\n"
   ]
  },
  {
   "cell_type": "markdown",
   "metadata": {},
   "source": [
    "## 4. 추론 및 결과 비교\n",
    "\n",
    "모든 모델의 파인튜닝이 완료되면, 아래 셀을 실행하여 동일한 쿼리에 대한 각 모델의 Tello 명령어 생성 결과를 비교할 수 있습니다.\n",
    "추론 시에도 파인튜닝과 동일하게 `fp16`을 사용하여 모델을 로드합니다."
   ]
  },
  {
   "cell_type": "code",
   "execution_count": 29,
   "metadata": {},
   "outputs": [],
   "source": [
    "from peft import PeftModel\n",
    "import pandas as pd\n",
    "\n",
    "def load_inference_model_fp16(base_model_name, peft_model_path):\n",
    "    \"\"\"파인튜닝된 LoRa 모델을 fp16으로 로드합니다.\"\"\"\n",
    "    model = AutoModelForCausalLM.from_pretrained(\n",
    "        base_model_name,\n",
    "        torch_dtype=torch.float16, # Use fp16\n",
    "        device_map=\"auto\",\n",
    "    )\n",
    "    \n",
    "    model = PeftModel.from_pretrained(model, peft_model_path)\n",
    "    tokenizer = AutoTokenizer.from_pretrained(base_model_name)\n",
    "    tokenizer.pad_token = tokenizer.eos_token\n",
    "    tokenizer.padding_side = \"right\"\n",
    "    \n",
    "    return model, tokenizer\n",
    "\n",
    "def run_inference(model, tokenizer, query):\n",
    "    \"\"\"주어진 쿼리에 대해 모델 추론을 실행하여 Tello 명령어를 생성합니다.\"\"\"\n",
    "    \n",
    "    prompt = (\n",
    "        \"당신은 Tello 드론 명령어 변환기입니다.\\n\"\n",
    "        \"LoRA로 학습된 데이터를 참고하여, 사용자가 입력한 한국어 명령어를\\n\"\n",
    "        \"가장 적절한 Tello 드론 제어 명령어 JSON 형식으로 변환해 주세요.\\n\"\n",
    "        \"출력은 오직 JSON 형식의 명령어만 포함해야 하며, 설명, 주석, 기타 텍스트는 절대 포함하지 마세요.\\n\\n\"\n",
    "        f\"### 사용자 명령어:\\n{query}\\n\"\n",
    "        \"### Tello 명령어 (JSON 형식):\\n\"\n",
    "    )\n",
    "    \n",
    "    inputs = tokenizer(prompt, return_tensors=\"pt\").to(model.device)\n",
    "    \n",
    "    # token_type_ids가 있으면 제거\n",
    "    if 'token_type_ids' in inputs:\n",
    "        del inputs['token_type_ids']\n",
    "        \n",
    "    with torch.no_grad():\n",
    "        outputs = model.generate(\n",
    "            **inputs,\n",
    "            max_new_tokens=50, \n",
    "            eos_token_id=tokenizer.eos_token_id,\n",
    "            pad_token_id=tokenizer.pad_token_id\n",
    "        )\n",
    "    \n",
    "    response = tokenizer.decode(outputs[0], skip_special_tokens=True)\n",
    "\n",
    "    # JSON 부분만 추출\n",
    "    json_start = response.find(\"{\")\n",
    "    json_end = response.rfind(\"}\") + 1\n",
    "    if json_start != -1 and json_end != -1:\n",
    "        json_only = response[json_start:json_end]\n",
    "    else:\n",
    "        json_only = response.strip()\n",
    "    \n",
    "    return json_only"
   ]
  },
  {
   "cell_type": "markdown",
   "metadata": {},
   "source": [
    "### 추론 실행 및 결과 비교표 생성\n",
    "\n",
    "아래 셀에 비교하고 싶은 쿼리를 입력하고 실행하세요. 파인튜닝된 각 모델이 생성한 Tello 명령어를 표 형태로 보여줍니다."
   ]
  },
  {
   "cell_type": "code",
   "execution_count": 31,
   "metadata": {},
   "outputs": [
    {
     "name": "stdout",
     "output_type": "stream",
     "text": [
      "입력 쿼리: '이륙하고 고도 50미터 유지해.'\n",
      "--------------------------------------------------\n",
      "beomi/Yi-Ko-6B 모델 로딩 중...\n"
     ]
    },
    {
     "data": {
      "application/vnd.jupyter.widget-view+json": {
       "model_id": "578f2dfe9f3448ea8097a1bfd573b3bd",
       "version_major": 2,
       "version_minor": 0
      },
      "text/plain": [
       "Loading checkpoint shards:   0%|          | 0/5 [00:00<?, ?it/s]"
      ]
     },
     "metadata": {},
     "output_type": "display_data"
    },
    {
     "name": "stdout",
     "output_type": "stream",
     "text": [
      "beomi/Yi-Ko-6B 모델로 추론 실행 중...\n",
      "추론 완료: {\"type\": \"takeoff\", \"altitude\": 50}\n",
      "--------------------------------------------------\n",
      "yanolja/KoSOLAR-10.7B-v0.2 모델 로딩 중...\n"
     ]
    },
    {
     "data": {
      "application/vnd.jupyter.widget-view+json": {
       "model_id": "a17e7ed1f57d431188517ccb022105f3",
       "version_major": 2,
       "version_minor": 0
      },
      "text/plain": [
       "Loading checkpoint shards:   0%|          | 0/5 [00:00<?, ?it/s]"
      ]
     },
     "metadata": {},
     "output_type": "display_data"
    },
    {
     "name": "stdout",
     "output_type": "stream",
     "text": [
      "yanolja/KoSOLAR-10.7B-v0.2 모델로 추론 실행 중...\n",
      "추론 완료: \n",
      "--------------------------------------------------\n",
      "EleutherAI/polyglot-ko-5.8b 모델 로딩 중...\n"
     ]
    },
    {
     "data": {
      "application/vnd.jupyter.widget-view+json": {
       "model_id": "d2251415af344c00a27f4c9af08f4f9a",
       "version_major": 2,
       "version_minor": 0
      },
      "text/plain": [
       "Loading checkpoint shards:   0%|          | 0/13 [00:00<?, ?it/s]"
      ]
     },
     "metadata": {},
     "output_type": "display_data"
    },
    {
     "name": "stdout",
     "output_type": "stream",
     "text": [
      "EleutherAI/polyglot-ko-5.8b 모델로 추론 실행 중...\n",
      "추론 완료: 당신은 Tello 드론 명령어 변환기입니다.\n",
      "LoRA로 학습된 데이터를 참고하여, 사용자가 입력한 한국어 명령어를\n",
      "가장 적절한 Tello 드론 제어 명령어 JSON 형식으로 변환해 주세요.\n",
      "출력은 오직 JSON 형식의 명령어만 포함해야 하며, 설명, 주석, 기타 텍스트는 절대 포함하지 마세요.\n",
      "\n",
      "### 사용자 명령어:\n",
      "이륙하고 고도 50미터 유지해.\n",
      "### Tello 명령어 (JSON 형식):\n",
      "### 사용자 명령어:다면은### Tello 명령어 (JSON 형식):다면은### 사용자 명령어:다면은### Tello 명령어 (JSON 형식):다면은##\n",
      "--------------------------------------------------\n",
      "=== 최종 비교 결과 ===\n"
     ]
    },
    {
     "data": {
      "text/html": [
       "<div>\n",
       "<style scoped>\n",
       "    .dataframe tbody tr th:only-of-type {\n",
       "        vertical-align: middle;\n",
       "    }\n",
       "\n",
       "    .dataframe tbody tr th {\n",
       "        vertical-align: top;\n",
       "    }\n",
       "\n",
       "    .dataframe thead th {\n",
       "        text-align: right;\n",
       "    }\n",
       "</style>\n",
       "<table border=\"1\" class=\"dataframe\">\n",
       "  <thead>\n",
       "    <tr style=\"text-align: right;\">\n",
       "      <th></th>\n",
       "      <th>Model</th>\n",
       "      <th>Generated Command</th>\n",
       "    </tr>\n",
       "  </thead>\n",
       "  <tbody>\n",
       "    <tr>\n",
       "      <th>0</th>\n",
       "      <td>beomi/Yi-Ko-6B</td>\n",
       "      <td>{\"type\": \"takeoff\", \"altitude\": 50}</td>\n",
       "    </tr>\n",
       "    <tr>\n",
       "      <th>1</th>\n",
       "      <td>yanolja/KoSOLAR-10.7B-v0.2</td>\n",
       "      <td></td>\n",
       "    </tr>\n",
       "    <tr>\n",
       "      <th>2</th>\n",
       "      <td>EleutherAI/polyglot-ko-5.8b</td>\n",
       "      <td>당신은 Tello 드론 명령어 변환기입니다.\\nLoRA로 학습된 데이터를 참고하여,...</td>\n",
       "    </tr>\n",
       "  </tbody>\n",
       "</table>\n",
       "</div>"
      ],
      "text/plain": [
       "                         Model   \n",
       "0               beomi/Yi-Ko-6B  \\\n",
       "1   yanolja/KoSOLAR-10.7B-v0.2   \n",
       "2  EleutherAI/polyglot-ko-5.8b   \n",
       "\n",
       "                                   Generated Command  \n",
       "0                {\"type\": \"takeoff\", \"altitude\": 50}  \n",
       "1                                                     \n",
       "2  당신은 Tello 드론 명령어 변환기입니다.\\nLoRA로 학습된 데이터를 참고하여,...  "
      ]
     },
     "metadata": {},
     "output_type": "display_data"
    }
   ],
   "source": [
    "query = \"이륙해서 50cm 위로 올라간 다음에, 시계방향으로 한 바퀴 돌아줘.\"\n",
    "results = []\n",
    "\n",
    "print(f\"입력 쿼리: '{query}'\")\n",
    "print(\"-\"*50)\n",
    "\n",
    "for model_name in MODELS_TO_TRAIN:\n",
    "    base_model = model_name\n",
    "    peft_path = f\"./{model_name.replace('/', '_')}-finetuned-fp16/final_checkpoint\"\n",
    "    \n",
    "    if not os.path.exists(peft_path):\n",
    "        print(f\"{peft_path} 에서 파인튜닝된 모델을 찾을 수 없어 추론을 건너뜁니다.\")\n",
    "        results.append({\"Model\": base_model, \"Generated Command\": \"N/A (Not Fine-tuned)\"})\n",
    "        continue\n",
    "\n",
    "    try:\n",
    "        print(f\"{base_model} 모델 로딩 중...\")\n",
    "        model, tokenizer = load_inference_model_fp16(base_model, peft_path)\n",
    "        \n",
    "        print(f\"{base_model} 모델로 추론 실행 중...\")\n",
    "        generated_command = run_inference(model, tokenizer, query)\n",
    "        results.append({\"Model\": base_model, \"Generated Command\": generated_command})\n",
    "        \n",
    "        print(f\"추론 완료: {generated_command}\")\n",
    "        print(\"-\"*50)\n",
    "        \n",
    "        # 메모리 확보를 위해 모델과 토크나이저를 명시적으로 삭제\n",
    "        del model\n",
    "        del tokenizer\n",
    "        torch.cuda.empty_cache()\n",
    "        \n",
    "    except Exception as e:\n",
    "        print(f\"{base_model} 추론 중 오류 발생: {e}\")\n",
    "        results.append({\"Model\": base_model, \"Generated Command\": f\"Error: {e}\"})\n",
    "\n",
    "# Display results in a pandas DataFrame\n",
    "print(\"=== 최종 비교 결과 ===\")\n",
    "df = pd.DataFrame(results)\n",
    "display(df)"
   ]
  },
  {
   "cell_type": "code",
   "execution_count": 32,
   "metadata": {},
   "outputs": [
    {
     "name": "stdout",
     "output_type": "stream",
     "text": [
      "\n",
      "입력 쿼리: '이륙하고 고도 50미터 유지해.'\n",
      "--------------------------------------------------\n",
      "beomi/Yi-Ko-6B 모델 로딩 중...\n"
     ]
    },
    {
     "data": {
      "application/vnd.jupyter.widget-view+json": {
       "model_id": "e5c1480fe4404479a4f8df8522efa553",
       "version_major": 2,
       "version_minor": 0
      },
      "text/plain": [
       "Loading checkpoint shards:   0%|          | 0/5 [00:00<?, ?it/s]"
      ]
     },
     "metadata": {},
     "output_type": "display_data"
    },
    {
     "name": "stdout",
     "output_type": "stream",
     "text": [
      "beomi/Yi-Ko-6B 모델로 추론 실행 중...\n",
      "추론 완료: {\"type\": \"takeoff\", \"altitude\": 50}\n",
      "--------------------------------------------------\n",
      "yanolja/KoSOLAR-10.7B-v0.2 모델 로딩 중...\n"
     ]
    },
    {
     "data": {
      "application/vnd.jupyter.widget-view+json": {
       "model_id": "8053361434074136838bb51110996916",
       "version_major": 2,
       "version_minor": 0
      },
      "text/plain": [
       "Loading checkpoint shards:   0%|          | 0/5 [00:00<?, ?it/s]"
      ]
     },
     "metadata": {},
     "output_type": "display_data"
    },
    {
     "name": "stdout",
     "output_type": "stream",
     "text": [
      "yanolja/KoSOLAR-10.7B-v0.2 모델로 추론 실행 중...\n",
      "추론 완료: \n",
      "--------------------------------------------------\n",
      "EleutherAI/polyglot-ko-5.8b 모델 로딩 중...\n"
     ]
    },
    {
     "data": {
      "application/vnd.jupyter.widget-view+json": {
       "model_id": "3f0ad89abf5241f3b1509ec8063354f6",
       "version_major": 2,
       "version_minor": 0
      },
      "text/plain": [
       "Loading checkpoint shards:   0%|          | 0/13 [00:00<?, ?it/s]"
      ]
     },
     "metadata": {},
     "output_type": "display_data"
    },
    {
     "name": "stdout",
     "output_type": "stream",
     "text": [
      "EleutherAI/polyglot-ko-5.8b 모델로 추론 실행 중...\n",
      "추론 완료: 당신은 Tello 드론 명령어 변환기입니다.\n",
      "LoRA로 학습된 데이터를 참고하여, 사용자가 입력한 한국어 명령어를\n",
      "가장 적절한 Tello 드론 제어 명령어 JSON 형식으로 변환해 주세요.\n",
      "출력은 오직 JSON 형식의 명령어만 포함해야 하며, 설명, 주석, 기타 텍스트는 절대 포함하지 마세요.\n",
      "\n",
      "### 사용자 명령어:\n",
      "이륙하고 고도 50미터 유지해.\n",
      "### Tello 명령어 (JSON 형식):\n",
      "### 사용자 명령어:다면은### Tello 명령어 (JSON 형식):다면은### 사용자 명령어:다면은### Tello 명령어 (JSON 형식):다면은##\n",
      "--------------------------------------------------\n",
      "\n",
      "입력 쿼리: '전진 100미터 후 착륙해.'\n",
      "--------------------------------------------------\n",
      "beomi/Yi-Ko-6B 모델 로딩 중...\n"
     ]
    },
    {
     "data": {
      "application/vnd.jupyter.widget-view+json": {
       "model_id": "a2e61b1a6fd14b689a37b7d96ddcc4fd",
       "version_major": 2,
       "version_minor": 0
      },
      "text/plain": [
       "Loading checkpoint shards:   0%|          | 0/5 [00:00<?, ?it/s]"
      ]
     },
     "metadata": {},
     "output_type": "display_data"
    },
    {
     "name": "stdout",
     "output_type": "stream",
     "text": [
      "beomi/Yi-Ko-6B 모델로 추론 실행 중...\n",
      "추론 완료: \n",
      "--------------------------------------------------\n",
      "yanolja/KoSOLAR-10.7B-v0.2 모델 로딩 중...\n"
     ]
    },
    {
     "data": {
      "application/vnd.jupyter.widget-view+json": {
       "model_id": "af07cff24fc24f89bdb4ba4759bd2897",
       "version_major": 2,
       "version_minor": 0
      },
      "text/plain": [
       "Loading checkpoint shards:   0%|          | 0/5 [00:00<?, ?it/s]"
      ]
     },
     "metadata": {},
     "output_type": "display_data"
    },
    {
     "name": "stdout",
     "output_type": "stream",
     "text": [
      "yanolja/KoSOLAR-10.7B-v0.2 모델로 추론 실행 중...\n",
      "추론 완료: {\n",
      "    \"cmd\": \"forward\",\n",
      "    \"distance\": 100,\n",
      "    \"land\": true\n",
      "}\n",
      "--------------------------------------------------\n",
      "EleutherAI/polyglot-ko-5.8b 모델 로딩 중...\n"
     ]
    },
    {
     "data": {
      "application/vnd.jupyter.widget-view+json": {
       "model_id": "099b8a641b3543b38a19dd4f0c207645",
       "version_major": 2,
       "version_minor": 0
      },
      "text/plain": [
       "Loading checkpoint shards:   0%|          | 0/13 [00:00<?, ?it/s]"
      ]
     },
     "metadata": {},
     "output_type": "display_data"
    },
    {
     "name": "stdout",
     "output_type": "stream",
     "text": [
      "EleutherAI/polyglot-ko-5.8b 모델로 추론 실행 중...\n",
      "추론 완료: 당신은 Tello 드론 명령어 변환기입니다.\n",
      "LoRA로 학습된 데이터를 참고하여, 사용자가 입력한 한국어 명령어를\n",
      "가장 적절한 Tello 드론 제어 명령어 JSON 형식으로 변환해 주세요.\n",
      "출력은 오직 JSON 형식의 명령어만 포함해야 하며, 설명, 주석, 기타 텍스트는 절대 포함하지 마세요.\n",
      "\n",
      "### 사용자 명령어:\n",
      "전진 100미터 후 착륙해.\n",
      "### Tello 명령어 (JSON 형식):\n",
      "### 사용자 명령어: 불거질### Tello 명령어 (JSON 형식):다면은### 사용자 명령어: 불거질### Tello 명령어 (JSON 형식):다면은##\n",
      "--------------------------------------------------\n",
      "\n",
      "입력 쿼리: '왼쪽으로 30도 회전하고 20미터 이동해.'\n",
      "--------------------------------------------------\n",
      "beomi/Yi-Ko-6B 모델 로딩 중...\n"
     ]
    },
    {
     "data": {
      "application/vnd.jupyter.widget-view+json": {
       "model_id": "fe323c79e73945278dda75bf2c5a9a29",
       "version_major": 2,
       "version_minor": 0
      },
      "text/plain": [
       "Loading checkpoint shards:   0%|          | 0/5 [00:00<?, ?it/s]"
      ]
     },
     "metadata": {},
     "output_type": "display_data"
    },
    {
     "name": "stdout",
     "output_type": "stream",
     "text": [
      "beomi/Yi-Ko-6B 모델로 추론 실행 중...\n",
      "추론 완료: {\n",
      "\"type\": \"move\",\n",
      "\"x\": 30,\n",
      "\"y\": 20\n",
      "}\n",
      "--------------------------------------------------\n",
      "yanolja/KoSOLAR-10.7B-v0.2 모델 로딩 중...\n"
     ]
    },
    {
     "data": {
      "application/vnd.jupyter.widget-view+json": {
       "model_id": "b24950ad4395427195e7881b80a1af6a",
       "version_major": 2,
       "version_minor": 0
      },
      "text/plain": [
       "Loading checkpoint shards:   0%|          | 0/5 [00:00<?, ?it/s]"
      ]
     },
     "metadata": {},
     "output_type": "display_data"
    },
    {
     "name": "stdout",
     "output_type": "stream",
     "text": [
      "yanolja/KoSOLAR-10.7B-v0.2 모델로 추론 실행 중...\n",
      "추론 완료: {\n",
      "  \"left\": 30,\n",
      "  \"distance\": 20\n",
      "}\n",
      "--------------------------------------------------\n",
      "EleutherAI/polyglot-ko-5.8b 모델 로딩 중...\n"
     ]
    },
    {
     "data": {
      "application/vnd.jupyter.widget-view+json": {
       "model_id": "a936e0aac27c45e288d0b9c647d6ed60",
       "version_major": 2,
       "version_minor": 0
      },
      "text/plain": [
       "Loading checkpoint shards:   0%|          | 0/13 [00:00<?, ?it/s]"
      ]
     },
     "metadata": {},
     "output_type": "display_data"
    },
    {
     "name": "stdout",
     "output_type": "stream",
     "text": [
      "EleutherAI/polyglot-ko-5.8b 모델로 추론 실행 중...\n",
      "추론 완료: 당신은 Tello 드론 명령어 변환기입니다.\n",
      "LoRA로 학습된 데이터를 참고하여, 사용자가 입력한 한국어 명령어를\n",
      "가장 적절한 Tello 드론 제어 명령어 JSON 형식으로 변환해 주세요.\n",
      "출력은 오직 JSON 형식의 명령어만 포함해야 하며, 설명, 주석, 기타 텍스트는 절대 포함하지 마세요.\n",
      "\n",
      "### 사용자 명령어:\n",
      "왼쪽으로 30도 회전하고 20미터 이동해.\n",
      "### Tello 명령어 (JSON 형식):\n",
      "오른쪽으로 30도 회전하고 20미터 이동해.다면은### Tello 명령어 (JSON 형식):다면은왼쪽으로 30도 회전하고 20미터 이동해.릎### Tello 명령어 (J\n",
      "--------------------------------------------------\n",
      "\n",
      "입력 쿼리: '고도 10미터로 유지하면서 5미터 후진해.'\n",
      "--------------------------------------------------\n",
      "beomi/Yi-Ko-6B 모델 로딩 중...\n"
     ]
    },
    {
     "data": {
      "application/vnd.jupyter.widget-view+json": {
       "model_id": "4307da97b7e740f4a77fc0bec16ce257",
       "version_major": 2,
       "version_minor": 0
      },
      "text/plain": [
       "Loading checkpoint shards:   0%|          | 0/5 [00:00<?, ?it/s]"
      ]
     },
     "metadata": {},
     "output_type": "display_data"
    },
    {
     "name": "stdout",
     "output_type": "stream",
     "text": [
      "beomi/Yi-Ko-6B 모델로 추론 실행 중...\n",
      "추론 완료: \n",
      "--------------------------------------------------\n",
      "yanolja/KoSOLAR-10.7B-v0.2 모델 로딩 중...\n"
     ]
    },
    {
     "data": {
      "application/vnd.jupyter.widget-view+json": {
       "model_id": "46330dfbd17849689f1ad5389c7516c6",
       "version_major": 2,
       "version_minor": 0
      },
      "text/plain": [
       "Loading checkpoint shards:   0%|          | 0/5 [00:00<?, ?it/s]"
      ]
     },
     "metadata": {},
     "output_type": "display_data"
    },
    {
     "name": "stdout",
     "output_type": "stream",
     "text": [
      "yanolja/KoSOLAR-10.7B-v0.2 모델로 추론 실행 중...\n",
      "추론 완료: {\n",
      "    \"cmd\": \"fwd\",\n",
      "    \"speed\": 0.5,\n",
      "    \"distance\": 5,\n",
      "    \"altitude\": 10\n",
      "}\n",
      "--------------------------------------------------\n",
      "EleutherAI/polyglot-ko-5.8b 모델 로딩 중...\n"
     ]
    },
    {
     "data": {
      "application/vnd.jupyter.widget-view+json": {
       "model_id": "3344a3b389ca4d219a6513589ba56c44",
       "version_major": 2,
       "version_minor": 0
      },
      "text/plain": [
       "Loading checkpoint shards:   0%|          | 0/13 [00:00<?, ?it/s]"
      ]
     },
     "metadata": {},
     "output_type": "display_data"
    },
    {
     "name": "stdout",
     "output_type": "stream",
     "text": [
      "EleutherAI/polyglot-ko-5.8b 모델로 추론 실행 중...\n",
      "추론 완료: 당신은 Tello 드론 명령어 변환기입니다.\n",
      "LoRA로 학습된 데이터를 참고하여, 사용자가 입력한 한국어 명령어를\n",
      "가장 적절한 Tello 드론 제어 명령어 JSON 형식으로 변환해 주세요.\n",
      "출력은 오직 JSON 형식의 명령어만 포함해야 하며, 설명, 주석, 기타 텍스트는 절대 포함하지 마세요.\n",
      "\n",
      "### 사용자 명령어:\n",
      "고도 10미터로 유지하면서 5미터 후진해.\n",
      "### Tello 명령어 (JSON 형식):\n",
      "### 사용자 명령어:다면은### Tello 명령어 (JSON 형식):다면은### 사용자 명령어:다면은### Tello 명령어 (JSON 형식):다면은##\n",
      "--------------------------------------------------\n",
      "=== 최종 비교 결과 ===\n"
     ]
    },
    {
     "data": {
      "text/html": [
       "<div>\n",
       "<style scoped>\n",
       "    .dataframe tbody tr th:only-of-type {\n",
       "        vertical-align: middle;\n",
       "    }\n",
       "\n",
       "    .dataframe tbody tr th {\n",
       "        vertical-align: top;\n",
       "    }\n",
       "\n",
       "    .dataframe thead th {\n",
       "        text-align: right;\n",
       "    }\n",
       "</style>\n",
       "<table border=\"1\" class=\"dataframe\">\n",
       "  <thead>\n",
       "    <tr style=\"text-align: right;\">\n",
       "      <th></th>\n",
       "      <th>Query</th>\n",
       "      <th>Model</th>\n",
       "      <th>Generated Command</th>\n",
       "    </tr>\n",
       "  </thead>\n",
       "  <tbody>\n",
       "    <tr>\n",
       "      <th>0</th>\n",
       "      <td>이륙하고 고도 50미터 유지해.</td>\n",
       "      <td>beomi/Yi-Ko-6B</td>\n",
       "      <td>{\"type\": \"takeoff\", \"altitude\": 50}</td>\n",
       "    </tr>\n",
       "    <tr>\n",
       "      <th>1</th>\n",
       "      <td>이륙하고 고도 50미터 유지해.</td>\n",
       "      <td>yanolja/KoSOLAR-10.7B-v0.2</td>\n",
       "      <td></td>\n",
       "    </tr>\n",
       "    <tr>\n",
       "      <th>2</th>\n",
       "      <td>이륙하고 고도 50미터 유지해.</td>\n",
       "      <td>EleutherAI/polyglot-ko-5.8b</td>\n",
       "      <td>당신은 Tello 드론 명령어 변환기입니다.\\nLoRA로 학습된 데이터를 참고하여,...</td>\n",
       "    </tr>\n",
       "    <tr>\n",
       "      <th>3</th>\n",
       "      <td>전진 100미터 후 착륙해.</td>\n",
       "      <td>beomi/Yi-Ko-6B</td>\n",
       "      <td></td>\n",
       "    </tr>\n",
       "    <tr>\n",
       "      <th>4</th>\n",
       "      <td>전진 100미터 후 착륙해.</td>\n",
       "      <td>yanolja/KoSOLAR-10.7B-v0.2</td>\n",
       "      <td>{\\n    \"cmd\": \"forward\",\\n    \"distance\": 100,...</td>\n",
       "    </tr>\n",
       "    <tr>\n",
       "      <th>5</th>\n",
       "      <td>전진 100미터 후 착륙해.</td>\n",
       "      <td>EleutherAI/polyglot-ko-5.8b</td>\n",
       "      <td>당신은 Tello 드론 명령어 변환기입니다.\\nLoRA로 학습된 데이터를 참고하여,...</td>\n",
       "    </tr>\n",
       "    <tr>\n",
       "      <th>6</th>\n",
       "      <td>왼쪽으로 30도 회전하고 20미터 이동해.</td>\n",
       "      <td>beomi/Yi-Ko-6B</td>\n",
       "      <td>{\\n\"type\": \"move\",\\n\"x\": 30,\\n\"y\": 20\\n}</td>\n",
       "    </tr>\n",
       "    <tr>\n",
       "      <th>7</th>\n",
       "      <td>왼쪽으로 30도 회전하고 20미터 이동해.</td>\n",
       "      <td>yanolja/KoSOLAR-10.7B-v0.2</td>\n",
       "      <td>{\\n  \"left\": 30,\\n  \"distance\": 20\\n}</td>\n",
       "    </tr>\n",
       "    <tr>\n",
       "      <th>8</th>\n",
       "      <td>왼쪽으로 30도 회전하고 20미터 이동해.</td>\n",
       "      <td>EleutherAI/polyglot-ko-5.8b</td>\n",
       "      <td>당신은 Tello 드론 명령어 변환기입니다.\\nLoRA로 학습된 데이터를 참고하여,...</td>\n",
       "    </tr>\n",
       "    <tr>\n",
       "      <th>9</th>\n",
       "      <td>고도 10미터로 유지하면서 5미터 후진해.</td>\n",
       "      <td>beomi/Yi-Ko-6B</td>\n",
       "      <td></td>\n",
       "    </tr>\n",
       "    <tr>\n",
       "      <th>10</th>\n",
       "      <td>고도 10미터로 유지하면서 5미터 후진해.</td>\n",
       "      <td>yanolja/KoSOLAR-10.7B-v0.2</td>\n",
       "      <td>{\\n    \"cmd\": \"fwd\",\\n    \"speed\": 0.5,\\n    \"...</td>\n",
       "    </tr>\n",
       "    <tr>\n",
       "      <th>11</th>\n",
       "      <td>고도 10미터로 유지하면서 5미터 후진해.</td>\n",
       "      <td>EleutherAI/polyglot-ko-5.8b</td>\n",
       "      <td>당신은 Tello 드론 명령어 변환기입니다.\\nLoRA로 학습된 데이터를 참고하여,...</td>\n",
       "    </tr>\n",
       "  </tbody>\n",
       "</table>\n",
       "</div>"
      ],
      "text/plain": [
       "                      Query                        Model   \n",
       "0         이륙하고 고도 50미터 유지해.               beomi/Yi-Ko-6B  \\\n",
       "1         이륙하고 고도 50미터 유지해.   yanolja/KoSOLAR-10.7B-v0.2   \n",
       "2         이륙하고 고도 50미터 유지해.  EleutherAI/polyglot-ko-5.8b   \n",
       "3           전진 100미터 후 착륙해.               beomi/Yi-Ko-6B   \n",
       "4           전진 100미터 후 착륙해.   yanolja/KoSOLAR-10.7B-v0.2   \n",
       "5           전진 100미터 후 착륙해.  EleutherAI/polyglot-ko-5.8b   \n",
       "6   왼쪽으로 30도 회전하고 20미터 이동해.               beomi/Yi-Ko-6B   \n",
       "7   왼쪽으로 30도 회전하고 20미터 이동해.   yanolja/KoSOLAR-10.7B-v0.2   \n",
       "8   왼쪽으로 30도 회전하고 20미터 이동해.  EleutherAI/polyglot-ko-5.8b   \n",
       "9   고도 10미터로 유지하면서 5미터 후진해.               beomi/Yi-Ko-6B   \n",
       "10  고도 10미터로 유지하면서 5미터 후진해.   yanolja/KoSOLAR-10.7B-v0.2   \n",
       "11  고도 10미터로 유지하면서 5미터 후진해.  EleutherAI/polyglot-ko-5.8b   \n",
       "\n",
       "                                    Generated Command  \n",
       "0                 {\"type\": \"takeoff\", \"altitude\": 50}  \n",
       "1                                                      \n",
       "2   당신은 Tello 드론 명령어 변환기입니다.\\nLoRA로 학습된 데이터를 참고하여,...  \n",
       "3                                                      \n",
       "4   {\\n    \"cmd\": \"forward\",\\n    \"distance\": 100,...  \n",
       "5   당신은 Tello 드론 명령어 변환기입니다.\\nLoRA로 학습된 데이터를 참고하여,...  \n",
       "6            {\\n\"type\": \"move\",\\n\"x\": 30,\\n\"y\": 20\\n}  \n",
       "7               {\\n  \"left\": 30,\\n  \"distance\": 20\\n}  \n",
       "8   당신은 Tello 드론 명령어 변환기입니다.\\nLoRA로 학습된 데이터를 참고하여,...  \n",
       "9                                                      \n",
       "10  {\\n    \"cmd\": \"fwd\",\\n    \"speed\": 0.5,\\n    \"...  \n",
       "11  당신은 Tello 드론 명령어 변환기입니다.\\nLoRA로 학습된 데이터를 참고하여,...  "
      ]
     },
     "metadata": {},
     "output_type": "display_data"
    }
   ],
   "source": [
    "queries = [\n",
    "    \"이륙하고 고도 50미터 유지해.\",\n",
    "    \"전진 100미터 후 착륙해.\",\n",
    "    \"왼쪽으로 30도 회전하고 20미터 이동해.\",\n",
    "    \"고도 10미터로 유지하면서 5미터 후진해.\",\n",
    "]\n",
    "\n",
    "results = []\n",
    "\n",
    "for query in queries:\n",
    "    print(f\"\\n입력 쿼리: '{query}'\")\n",
    "    print(\"-\"*50)\n",
    "    \n",
    "    for model_name in MODELS_TO_TRAIN:\n",
    "        base_model = model_name\n",
    "        peft_path = f\"./{model_name.replace('/', '_')}-finetuned-fp16/final_checkpoint\"\n",
    "        \n",
    "        if not os.path.exists(peft_path):\n",
    "            print(f\"{peft_path} 에서 파인튜닝된 모델을 찾을 수 없어 추론을 건너뜁니다.\")\n",
    "            results.append({\n",
    "                \"Query\": query,\n",
    "                \"Model\": base_model,\n",
    "                \"Generated Command\": \"N/A (Not Fine-tuned)\"\n",
    "            })\n",
    "            continue\n",
    "\n",
    "        try:\n",
    "            print(f\"{base_model} 모델 로딩 중...\")\n",
    "            model, tokenizer = load_inference_model_fp16(base_model, peft_path)\n",
    "\n",
    "            print(f\"{base_model} 모델로 추론 실행 중...\")\n",
    "            generated_command = run_inference(model, tokenizer, query)\n",
    "            results.append({\n",
    "                \"Query\": query,\n",
    "                \"Model\": base_model,\n",
    "                \"Generated Command\": generated_command\n",
    "            })\n",
    "\n",
    "            print(f\"추론 완료: {generated_command}\")\n",
    "            print(\"-\"*50)\n",
    "\n",
    "            del model\n",
    "            del tokenizer\n",
    "            torch.cuda.empty_cache()\n",
    "\n",
    "        except Exception as e:\n",
    "            print(f\"{base_model} 추론 중 오류 발생: {e}\")\n",
    "            results.append({\n",
    "                \"Query\": query,\n",
    "                \"Model\": base_model,\n",
    "                \"Generated Command\": f\"Error: {e}\"\n",
    "            })\n",
    "\n",
    "# 결과 출력\n",
    "print(\"=== 최종 비교 결과 ===\")\n",
    "df = pd.DataFrame(results)\n",
    "display(df)\n"
   ]
  },
  {
   "cell_type": "code",
   "execution_count": 33,
   "metadata": {},
   "outputs": [
    {
     "name": "stdout",
     "output_type": "stream",
     "text": [
      "=== 최종 비교 결과 ===\n"
     ]
    },
    {
     "data": {
      "text/html": [
       "<div>\n",
       "<style scoped>\n",
       "    .dataframe tbody tr th:only-of-type {\n",
       "        vertical-align: middle;\n",
       "    }\n",
       "\n",
       "    .dataframe tbody tr th {\n",
       "        vertical-align: top;\n",
       "    }\n",
       "\n",
       "    .dataframe thead th {\n",
       "        text-align: right;\n",
       "    }\n",
       "</style>\n",
       "<table border=\"1\" class=\"dataframe\">\n",
       "  <thead>\n",
       "    <tr style=\"text-align: right;\">\n",
       "      <th></th>\n",
       "      <th>Query</th>\n",
       "      <th>Model</th>\n",
       "      <th>Generated Command</th>\n",
       "    </tr>\n",
       "  </thead>\n",
       "  <tbody>\n",
       "    <tr>\n",
       "      <th>0</th>\n",
       "      <td>이륙하고 고도 50미터 유지해.</td>\n",
       "      <td>beomi/Yi-Ko-6B</td>\n",
       "      <td>{\"type\": \"takeoff\", \"altitude\": 50}</td>\n",
       "    </tr>\n",
       "    <tr>\n",
       "      <th>1</th>\n",
       "      <td>이륙하고 고도 50미터 유지해.</td>\n",
       "      <td>yanolja/KoSOLAR-10.7B-v0.2</td>\n",
       "      <td></td>\n",
       "    </tr>\n",
       "    <tr>\n",
       "      <th>2</th>\n",
       "      <td>이륙하고 고도 50미터 유지해.</td>\n",
       "      <td>EleutherAI/polyglot-ko-5.8b</td>\n",
       "      <td>당신은 Tello 드론 명령어 변환기입니다.\\nLoRA로 학습된 데이터를 참고하여, 사용자가 입력한 한국어 명령어를\\n가장 적절한 Tello 드론 제어 명령어 JSON 형식으로 변환해 주세요.\\n출력은 오직 JSON 형식의 명령어만 포함해야 하며, 설명, 주석, 기타 텍스트는 절대 포함하지 마세요.\\n\\n### 사용자 명령어:\\n이륙하고 고도 50미터 유지해.\\n### Tello 명령어 (JSON 형식):\\n### 사용자 명령어:다면은### Tello 명령어 (JSON 형식):다면은### 사용자 명령어:다면은### Tello 명령어 (JSON 형식):다면은##</td>\n",
       "    </tr>\n",
       "    <tr>\n",
       "      <th>3</th>\n",
       "      <td>전진 100미터 후 착륙해.</td>\n",
       "      <td>beomi/Yi-Ko-6B</td>\n",
       "      <td></td>\n",
       "    </tr>\n",
       "    <tr>\n",
       "      <th>4</th>\n",
       "      <td>전진 100미터 후 착륙해.</td>\n",
       "      <td>yanolja/KoSOLAR-10.7B-v0.2</td>\n",
       "      <td>{\\n    \"cmd\": \"forward\",\\n    \"distance\": 100,\\n    \"land\": true\\n}</td>\n",
       "    </tr>\n",
       "    <tr>\n",
       "      <th>5</th>\n",
       "      <td>전진 100미터 후 착륙해.</td>\n",
       "      <td>EleutherAI/polyglot-ko-5.8b</td>\n",
       "      <td>당신은 Tello 드론 명령어 변환기입니다.\\nLoRA로 학습된 데이터를 참고하여, 사용자가 입력한 한국어 명령어를\\n가장 적절한 Tello 드론 제어 명령어 JSON 형식으로 변환해 주세요.\\n출력은 오직 JSON 형식의 명령어만 포함해야 하며, 설명, 주석, 기타 텍스트는 절대 포함하지 마세요.\\n\\n### 사용자 명령어:\\n전진 100미터 후 착륙해.\\n### Tello 명령어 (JSON 형식):\\n### 사용자 명령어: 불거질### Tello 명령어 (JSON 형식):다면은### 사용자 명령어: 불거질### Tello 명령어 (JSON 형식):다면은##</td>\n",
       "    </tr>\n",
       "    <tr>\n",
       "      <th>6</th>\n",
       "      <td>왼쪽으로 30도 회전하고 20미터 이동해.</td>\n",
       "      <td>beomi/Yi-Ko-6B</td>\n",
       "      <td>{\\n\"type\": \"move\",\\n\"x\": 30,\\n\"y\": 20\\n}</td>\n",
       "    </tr>\n",
       "    <tr>\n",
       "      <th>7</th>\n",
       "      <td>왼쪽으로 30도 회전하고 20미터 이동해.</td>\n",
       "      <td>yanolja/KoSOLAR-10.7B-v0.2</td>\n",
       "      <td>{\\n  \"left\": 30,\\n  \"distance\": 20\\n}</td>\n",
       "    </tr>\n",
       "    <tr>\n",
       "      <th>8</th>\n",
       "      <td>왼쪽으로 30도 회전하고 20미터 이동해.</td>\n",
       "      <td>EleutherAI/polyglot-ko-5.8b</td>\n",
       "      <td>당신은 Tello 드론 명령어 변환기입니다.\\nLoRA로 학습된 데이터를 참고하여, 사용자가 입력한 한국어 명령어를\\n가장 적절한 Tello 드론 제어 명령어 JSON 형식으로 변환해 주세요.\\n출력은 오직 JSON 형식의 명령어만 포함해야 하며, 설명, 주석, 기타 텍스트는 절대 포함하지 마세요.\\n\\n### 사용자 명령어:\\n왼쪽으로 30도 회전하고 20미터 이동해.\\n### Tello 명령어 (JSON 형식):\\n오른쪽으로 30도 회전하고 20미터 이동해.다면은### Tello 명령어 (JSON 형식):다면은왼쪽으로 30도 회전하고 20미터 이동해.릎### Tello 명령어 (J</td>\n",
       "    </tr>\n",
       "    <tr>\n",
       "      <th>9</th>\n",
       "      <td>고도 10미터로 유지하면서 5미터 후진해.</td>\n",
       "      <td>beomi/Yi-Ko-6B</td>\n",
       "      <td></td>\n",
       "    </tr>\n",
       "    <tr>\n",
       "      <th>10</th>\n",
       "      <td>고도 10미터로 유지하면서 5미터 후진해.</td>\n",
       "      <td>yanolja/KoSOLAR-10.7B-v0.2</td>\n",
       "      <td>{\\n    \"cmd\": \"fwd\",\\n    \"speed\": 0.5,\\n    \"distance\": 5,\\n    \"altitude\": 10\\n}</td>\n",
       "    </tr>\n",
       "    <tr>\n",
       "      <th>11</th>\n",
       "      <td>고도 10미터로 유지하면서 5미터 후진해.</td>\n",
       "      <td>EleutherAI/polyglot-ko-5.8b</td>\n",
       "      <td>당신은 Tello 드론 명령어 변환기입니다.\\nLoRA로 학습된 데이터를 참고하여, 사용자가 입력한 한국어 명령어를\\n가장 적절한 Tello 드론 제어 명령어 JSON 형식으로 변환해 주세요.\\n출력은 오직 JSON 형식의 명령어만 포함해야 하며, 설명, 주석, 기타 텍스트는 절대 포함하지 마세요.\\n\\n### 사용자 명령어:\\n고도 10미터로 유지하면서 5미터 후진해.\\n### Tello 명령어 (JSON 형식):\\n### 사용자 명령어:다면은### Tello 명령어 (JSON 형식):다면은### 사용자 명령어:다면은### Tello 명령어 (JSON 형식):다면은##</td>\n",
       "    </tr>\n",
       "  </tbody>\n",
       "</table>\n",
       "</div>"
      ],
      "text/plain": [
       "                      Query                        Model   \n",
       "0         이륙하고 고도 50미터 유지해.               beomi/Yi-Ko-6B  \\\n",
       "1         이륙하고 고도 50미터 유지해.   yanolja/KoSOLAR-10.7B-v0.2   \n",
       "2         이륙하고 고도 50미터 유지해.  EleutherAI/polyglot-ko-5.8b   \n",
       "3           전진 100미터 후 착륙해.               beomi/Yi-Ko-6B   \n",
       "4           전진 100미터 후 착륙해.   yanolja/KoSOLAR-10.7B-v0.2   \n",
       "5           전진 100미터 후 착륙해.  EleutherAI/polyglot-ko-5.8b   \n",
       "6   왼쪽으로 30도 회전하고 20미터 이동해.               beomi/Yi-Ko-6B   \n",
       "7   왼쪽으로 30도 회전하고 20미터 이동해.   yanolja/KoSOLAR-10.7B-v0.2   \n",
       "8   왼쪽으로 30도 회전하고 20미터 이동해.  EleutherAI/polyglot-ko-5.8b   \n",
       "9   고도 10미터로 유지하면서 5미터 후진해.               beomi/Yi-Ko-6B   \n",
       "10  고도 10미터로 유지하면서 5미터 후진해.   yanolja/KoSOLAR-10.7B-v0.2   \n",
       "11  고도 10미터로 유지하면서 5미터 후진해.  EleutherAI/polyglot-ko-5.8b   \n",
       "\n",
       "                                                                                                                                                                                                                                                                                                                             Generated Command  \n",
       "0                                                                                                                                                                                                                                                                                                          {\"type\": \"takeoff\", \"altitude\": 50}  \n",
       "1                                                                                                                                                                                                                                                                                                                                               \n",
       "2                 당신은 Tello 드론 명령어 변환기입니다.\\nLoRA로 학습된 데이터를 참고하여, 사용자가 입력한 한국어 명령어를\\n가장 적절한 Tello 드론 제어 명령어 JSON 형식으로 변환해 주세요.\\n출력은 오직 JSON 형식의 명령어만 포함해야 하며, 설명, 주석, 기타 텍스트는 절대 포함하지 마세요.\\n\\n### 사용자 명령어:\\n이륙하고 고도 50미터 유지해.\\n### Tello 명령어 (JSON 형식):\\n### 사용자 명령어:다면은### Tello 명령어 (JSON 형식):다면은### 사용자 명령어:다면은### Tello 명령어 (JSON 형식):다면은##  \n",
       "3                                                                                                                                                                                                                                                                                                                                               \n",
       "4                                                                                                                                                                                                                                                                          {\\n    \"cmd\": \"forward\",\\n    \"distance\": 100,\\n    \"land\": true\\n}  \n",
       "5                 당신은 Tello 드론 명령어 변환기입니다.\\nLoRA로 학습된 데이터를 참고하여, 사용자가 입력한 한국어 명령어를\\n가장 적절한 Tello 드론 제어 명령어 JSON 형식으로 변환해 주세요.\\n출력은 오직 JSON 형식의 명령어만 포함해야 하며, 설명, 주석, 기타 텍스트는 절대 포함하지 마세요.\\n\\n### 사용자 명령어:\\n전진 100미터 후 착륙해.\\n### Tello 명령어 (JSON 형식):\\n### 사용자 명령어: 불거질### Tello 명령어 (JSON 형식):다면은### 사용자 명령어: 불거질### Tello 명령어 (JSON 형식):다면은##  \n",
       "6                                                                                                                                                                                                                                                                                                     {\\n\"type\": \"move\",\\n\"x\": 30,\\n\"y\": 20\\n}  \n",
       "7                                                                                                                                                                                                                                                                                                        {\\n  \"left\": 30,\\n  \"distance\": 20\\n}  \n",
       "8   당신은 Tello 드론 명령어 변환기입니다.\\nLoRA로 학습된 데이터를 참고하여, 사용자가 입력한 한국어 명령어를\\n가장 적절한 Tello 드론 제어 명령어 JSON 형식으로 변환해 주세요.\\n출력은 오직 JSON 형식의 명령어만 포함해야 하며, 설명, 주석, 기타 텍스트는 절대 포함하지 마세요.\\n\\n### 사용자 명령어:\\n왼쪽으로 30도 회전하고 20미터 이동해.\\n### Tello 명령어 (JSON 형식):\\n오른쪽으로 30도 회전하고 20미터 이동해.다면은### Tello 명령어 (JSON 형식):다면은왼쪽으로 30도 회전하고 20미터 이동해.릎### Tello 명령어 (J  \n",
       "9                                                                                                                                                                                                                                                                                                                                               \n",
       "10                                                                                                                                                                                                                                                          {\\n    \"cmd\": \"fwd\",\\n    \"speed\": 0.5,\\n    \"distance\": 5,\\n    \"altitude\": 10\\n}  \n",
       "11          당신은 Tello 드론 명령어 변환기입니다.\\nLoRA로 학습된 데이터를 참고하여, 사용자가 입력한 한국어 명령어를\\n가장 적절한 Tello 드론 제어 명령어 JSON 형식으로 변환해 주세요.\\n출력은 오직 JSON 형식의 명령어만 포함해야 하며, 설명, 주석, 기타 텍스트는 절대 포함하지 마세요.\\n\\n### 사용자 명령어:\\n고도 10미터로 유지하면서 5미터 후진해.\\n### Tello 명령어 (JSON 형식):\\n### 사용자 명령어:다면은### Tello 명령어 (JSON 형식):다면은### 사용자 명령어:다면은### Tello 명령어 (JSON 형식):다면은##  "
      ]
     },
     "metadata": {},
     "output_type": "display_data"
    }
   ],
   "source": [
    "import pandas as pd\n",
    "\n",
    "pd.set_option('display.max_colwidth', None)\n",
    "\n",
    "print(\"=== 최종 비교 결과 ===\")\n",
    "df = pd.DataFrame(results)\n",
    "display(df)\n"
   ]
  },
  {
   "cell_type": "code",
   "execution_count": null,
   "metadata": {},
   "outputs": [],
   "source": []
  }
 ],
 "metadata": {
  "kernelspec": {
   "display_name": "Python 3 (ipykernel)",
   "language": "python",
   "name": "python3"
  },
  "language_info": {
   "codemirror_mode": {
    "name": "ipython",
    "version": 3
   },
   "file_extension": ".py",
   "mimetype": "text/x-python",
   "name": "python",
   "nbconvert_exporter": "python",
   "pygments_lexer": "ipython3",
   "version": "3.8.10"
  }
 },
 "nbformat": 4,
 "nbformat_minor": 4
}
